{
  "cells": [
    {
      "cell_type": "markdown",
      "metadata": {
        "id": "view-in-github",
        "colab_type": "text"
      },
      "source": [
        "<a href=\"https://colab.research.google.com/github/jamesjyoon/llm_interpretability/blob/main/lime.ipynb\" target=\"_parent\"><img src=\"https://colab.research.google.com/assets/colab-badge.svg\" alt=\"Open In Colab\"/></a>"
      ]
    },
    {
      "cell_type": "code",
      "execution_count": null,
      "metadata": {
        "id": "Uo_nP8CmfVmQ"
      },
      "outputs": [],
      "source": [
        "!pip uninstall interpret interpret-community -y\n",
        "!pip install transformers lime datasets plotly\n"
      ]
    },
    {
      "cell_type": "markdown",
      "metadata": {
        "id": "lime_intro"
      },
      "source": [
        "## LIME-based explanations for transformer text models\n",
        "We treat the Hugging Face pipeline as a black-box classifier and use LIME to perturb the input text to estimate which tokens push the model toward each label.\n"
      ]
    },
    {
      "cell_type": "code",
      "execution_count": null,
      "metadata": {
        "id": "lime_setup"
      },
      "outputs": [],
      "source": [
        "from transformers import pipeline\n",
        "from lime.lime_text import LimeTextExplainer\n",
        "import numpy as np\n",
        "np.random.seed(42)\n",
        "\n",
        "# Use a pretrained sentiment analysis model as an example black-box classifier\n",
        "classifier = pipeline('text-classification', model='distilbert-base-uncased-finetuned-sst-2-english', return_all_scores=True)\n",
        "\n",
        "# Identify the class labels that the pipeline returns\n",
        "_sample_scores = classifier('This placeholder call collects label names.', truncation=True)[0]\n",
        "class_names = [entry['label'] for entry in _sample_scores]\n",
        "explainer = LimeTextExplainer(class_names=class_names)\n"
      ]
    },
    {
      "cell_type": "code",
      "execution_count": null,
      "metadata": {
        "id": "lime_helpers"
      },
      "outputs": [],
      "source": [
        "def predict_proba(texts):\n",
        "    \"\"\"Wrap the Hugging Face pipeline so LIME can query class probabilities.\"\"\"\n",
        "    outputs = classifier(texts, truncation=True)\n",
        "    return np.array([[entry['score'] for entry in sample] for sample in outputs], dtype=float)\n",
        "\n",
        "def explain_text(text, num_features=10):\n",
        "    \"\"\"Run LIME on a single text example and print aggregated feature weights.\"\"\"\n",
        "    explanation = explainer.explain_instance(text, predict_proba, num_features=num_features)\n",
        "    probabilities = predict_proba([text])[0]\n",
        "    top_label = class_names[int(np.argmax(probabilities))]\n",
        "    print(f'Model prediction: {top_label} (confidence={probabilities.max():.3f})')\n",
        "    print('\\nToken contributions (positive pushes prediction up, negative down):')\n",
        "    for token, weight in explanation.as_list():\n",
        "        print(f'{token}: {weight:+.3f}')\n",
        "    return explanation\n"
      ]
    },
    {
      "cell_type": "code",
      "execution_count": null,
      "metadata": {
        "id": "lime_demo"
      },
      "outputs": [],
      "source": [
        "sample_text = 'The movie had gorgeous visuals but the storyline fell flat and predictable.'\n",
        "lime_explanation = explain_text(sample_text)\n"
      ]
    },
    {
      "cell_type": "code",
      "execution_count": null,
      "metadata": {
        "id": "lime_html"
      },
      "outputs": [],
      "source": [
        "from IPython.display import HTML\n",
        "HTML(lime_explanation.as_html())\n"
      ]
    }
  ],
  "metadata": {
    "accelerator": "GPU",
    "colab": {
      "gpuType": "T4",
      "provenance": [],
      "toc_visible": true,
      "include_colab_link": true
    },
    "kernelspec": {
      "display_name": "Python 3",
      "name": "python3"
    },
    "language_info": {
      "name": "python"
    }
  },
  "nbformat": 4,
  "nbformat_minor": 0
}